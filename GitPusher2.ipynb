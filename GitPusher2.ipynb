{
 "cells": [
  {
   "cell_type": "code",
   "execution_count": 3,
   "metadata": {
    "collapsed": false
   },
   "outputs": [
    {
     "data": {
      "text/plain": [
       "[<git.remote.PushInfo at 0x61aee08>]"
      ]
     },
     "execution_count": 3,
     "metadata": {},
     "output_type": "execute_result"
    }
   ],
   "source": [
    "from git import Repo\n",
    "\n",
    "repo_dir = 'C:\\Users\\Misha\\Documents\\GitHub\\Staging'\n",
    "repo = Repo(repo_dir)\n",
    "file_list = [repo_dir+'\\Test1 - Copy.txt',\n",
    "             repo_dir+'\\GitPusher.ipynb']\n",
    "commit_message = 'Testme'\n",
    "repo.index.add(file_list)\n",
    "repo.index.commit(commit_message)\n",
    "origin = repo.remote('origin')\n",
    "origin.push()\n"
   ]
  }
 ],
 "metadata": {
  "anaconda-cloud": {},
  "kernelspec": {
   "display_name": "Python [default]",
   "language": "python",
   "name": "python2"
  },
  "language_info": {
   "codemirror_mode": {
    "name": "ipython",
    "version": 2
   },
   "file_extension": ".py",
   "mimetype": "text/x-python",
   "name": "python",
   "nbconvert_exporter": "python",
   "pygments_lexer": "ipython2",
   "version": "2.7.12"
  }
 },
 "nbformat": 4,
 "nbformat_minor": 1
}
